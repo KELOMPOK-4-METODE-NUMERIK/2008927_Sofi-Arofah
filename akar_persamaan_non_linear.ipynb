{
  "nbformat": 4,
  "nbformat_minor": 0,
  "metadata": {
    "colab": {
      "provenance": []
    },
    "kernelspec": {
      "name": "python3",
      "display_name": "Python 3"
    },
    "language_info": {
      "name": "python"
    }
  },
  "cells": [
    {
      "cell_type": "markdown",
      "source": [
        "Metode Bagi Dua"
      ],
      "metadata": {
        "id": "gpsKKLv2psEM"
      }
    },
    {
      "cell_type": "code",
      "execution_count": null,
      "metadata": {
        "colab": {
          "base_uri": "https://localhost:8080/"
        },
        "id": "uARC5At0pjzO",
        "outputId": "aae4f3a8-246f-4be4-fc7a-ae05640be18f"
      },
      "outputs": [
        {
          "output_type": "stream",
          "name": "stdout",
          "text": [
            "  n  |     a    |     b    |     c    |   f(a)   |   f(b)   |   f(c)   |  selang |   (a-b) \n",
            "-------------------------------------------------------------------------------------------\n",
            " 1  |    3.750 |    4.500 |    4.125 |   -1.438 |    3.250 |    0.766 |  [a,c]  |    0.750\n",
            " 2  |    3.750 |    4.125 |    3.938 |   -1.438 |    0.766 |   -0.371 |  [b,c]  |    0.375\n",
            " 3  |    3.938 |    4.125 |    4.031 |   -0.371 |    0.766 |    0.188 |  [a,c]  |    0.188\n",
            " 4  |    3.938 |    4.031 |    3.984 |   -0.371 |    0.188 |   -0.094 |  [b,c]  |    0.094\n",
            " 5  |    3.984 |    4.031 |    4.008 |   -0.094 |    0.188 |    0.047 |  [a,c]  |    0.047\n",
            " 6  |    3.984 |    4.008 |    3.996 |   -0.094 |    0.047 |   -0.023 |  [b,c]  |    0.023\n",
            " 7  |    3.996 |    4.008 |    4.002 |   -0.023 |    0.047 |    0.012 |  [a,c]  |    0.012\n",
            " 8  |    3.996 |    4.002 |    3.999 |   -0.023 |    0.012 |   -0.006 |  [b,c]  |    0.006\n",
            " 9  |    3.999 |    4.002 |    4.000 |   -0.006 |    0.012 |    0.003 |  [a,c]  |    0.003\n",
            " 10  |    3.999 |    4.000 |    4.000 |   -0.006 |    0.003 |   -0.001 |  [b,c]  |    0.001\n",
            " 11  |    4.000 |    4.000 |    4.000 |   -0.001 |    0.003 |    0.001 |  [a,c]  |    0.001\n",
            " 12  |    4.000 |    4.000 |    4.000 |   -0.001 |    0.001 |   -0.000 |  [b,c]  |    0.000\n",
            "-------------------------------------------------------------------------------------------\n",
            "Akar hampiran adalah nilai c = 4.000\n"
          ]
        }
      ],
      "source": [
        "import numpy as np\n",
        "\n",
        "#untuk deklarasi fungsi persamaan\n",
        "def f(x):\n",
        "    return x**2 - 2*x - 8\n",
        "\n",
        "a = 3.75\n",
        "b = 4.50\n",
        "err = 0.0001\n",
        "\n",
        "#deklarasi fungsi untuk metode bagi dua\n",
        "def bagi_dua (a, b, err):\n",
        "  if (f(a) * f(b) > 0):\n",
        "    print (\" Tidak memiliki akar persamaan\")\n",
        "  else:\n",
        "    print('  n  |     a    |     b    |     c    |   f(a)   |   f(b)   |   f(c)   |  selang |   (a-b) ')\n",
        "    print('-------------------------------------------------------------------------------------------')\n",
        "    i = 1\n",
        "    #for i in range (4):\n",
        "    while (b-a)/2 > err:\n",
        "      c = (a+b)/2\n",
        "      if f(c) == 0:\n",
        "        return (c)\n",
        "      elif f(a)*f(c) < 0:\n",
        "        print(f' {i}  | {a:8.3f} | {b:8.3f} | {c:8.3f} | {f(a):8.3f} | {f(b):8.3f} | {f(c):8.3f} |  [a,c]  | {abs(a-b):8.3f}')\n",
        "        i +=1\n",
        "        b = c\n",
        "      else:\n",
        "        print(f' {i}  | {a:8.3f} | {b:8.3f} | {c:8.3f} | {f(a):8.3f} | {f(b):8.3f} | {f(c):8.3f} |  [b,c]  | {abs(a-b):8.3f}')\n",
        "        i +=1\n",
        "        a = c\n",
        "    print('-------------------------------------------------------------------------------------------')\n",
        "    print(f'Akar hampiran adalah nilai c = {c:.3f}')\n",
        "bagi_dua(a, b, err)\n",
        "\n"
      ]
    },
    {
      "cell_type": "markdown",
      "source": [
        "Metode Newton Raphson"
      ],
      "metadata": {
        "id": "QqCvbEBWqSzv"
      }
    },
    {
      "cell_type": "code",
      "source": [
        "import math\n",
        "from plistlib import FMT_XML\n",
        "\n",
        "#definisikan fx dan f'x\n",
        "def f(x):\n",
        "  fx = x**2 - 2*x - 8\n",
        "  return fx\n",
        "\n",
        "def f_turunan(x):\n",
        "  f_aksen= 2*x - 2\n",
        "  return f_aksen\n",
        "\n",
        "#toleransi error dan batas iterasi n\n",
        "e = 0.0001\n",
        "n = 5\n",
        "\n",
        "#pendekatan awal x0\n",
        "x0 = float (input (\"x0 = \"))\n",
        "\n",
        "#iterasi\n",
        "for i in range (n):\n",
        "  x = x0 - (f(x0)/f_turunan(x0))\n",
        "  print (\"i =\", i, \"x =\", x)\n",
        "  x0=x"
      ],
      "metadata": {
        "colab": {
          "base_uri": "https://localhost:8080/"
        },
        "id": "Fgm3HojO2Od1",
        "outputId": "9db0120d-06e0-40d4-cc9b-730844a47585"
      },
      "execution_count": null,
      "outputs": [
        {
          "output_type": "stream",
          "name": "stdout",
          "text": [
            "x0 = 3.75\n",
            "i = 0 x = 4.011363636363637\n",
            "i = 1 x = 4.0000214408233274\n",
            "i = 2 x = 4.000000000076617\n",
            "i = 3 x = 4.0\n",
            "i = 4 x = 4.0\n"
          ]
        }
      ]
    }
  ]
}