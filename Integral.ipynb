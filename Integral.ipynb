{
  "nbformat": 4,
  "nbformat_minor": 0,
  "metadata": {
    "colab": {
      "provenance": []
    },
    "kernelspec": {
      "name": "python3",
      "display_name": "Python 3"
    },
    "language_info": {
      "name": "python"
    }
  },
  "cells": [
    {
      "cell_type": "markdown",
      "source": [
        "Metode Trapesium"
      ],
      "metadata": {
        "id": "ZjYYVw5eCqeI"
      }
    },
    {
      "cell_type": "code",
      "execution_count": 5,
      "metadata": {
        "colab": {
          "base_uri": "https://localhost:8080/",
          "height": 282
        },
        "id": "ePQXm1AeCmDg",
        "outputId": "89fe9c9a-25a1-409f-ba61-e93ef8fc15f1"
      },
      "outputs": [
        {
          "output_type": "stream",
          "name": "stdout",
          "text": [
            "48.0\n"
          ]
        },
        {
          "output_type": "display_data",
          "data": {
            "text/plain": [
              "<Figure size 432x288 with 1 Axes>"
            ],
            "image/png": "[encoded data removed]"
          },
          "metadata": {
            "needs_background": "light"
          }
        }
      ],
      "source": [
        "import numpy as np\n",
        "import matplotlib.pyplot as plt\n",
        "\n",
        "def func(x):\n",
        "  return 2*x+8\n",
        "\n",
        "a = 0 \n",
        "b = 4.0\n",
        "n = 5 #banyaknya trapesium\n",
        "\n",
        "dx = (b - a) / (n - 1)\n",
        "x = np.linspace(a,b,n)\n",
        "\n",
        "sum = 0.0\n",
        "for i in range (1, n - 1):\n",
        "  sum = sum + func(x[i])\n",
        "\n",
        "hasil = 0.5 * dx * (func(x[0]) + 2 * sum +func(x[-1]))\n",
        "print (hasil)\n",
        "nd= 100\n",
        "xp = np.linspace(a,b,n)\n",
        "\n",
        "plt.plot(xp, func(xp))\n",
        "for i in range (n):\n",
        "  plt.bar(x[i], func(x[i]), align='edge', width=0.000001, edgecolor='red') \n",
        "\n",
        "plt.fill_between(x, func(x), color='gray')\n",
        "plt.show()"
      ]
    }
  ]
}