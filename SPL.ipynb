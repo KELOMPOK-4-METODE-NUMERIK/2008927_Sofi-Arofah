{
  "nbformat": 4,
  "nbformat_minor": 0,
  "metadata": {
    "colab": {
      "provenance": []
    },
    "kernelspec": {
      "name": "python3",
      "display_name": "Python 3"
    },
    "language_info": {
      "name": "python"
    }
  },
  "cells": [
    {
      "cell_type": "markdown",
      "source": [
        "Eliminasi Gauss"
      ],
      "metadata": {
        "id": "Gv87Aq7-bRzI"
      }
    },
    {
      "cell_type": "code",
      "execution_count": 1,
      "metadata": {
        "colab": {
          "base_uri": "https://localhost:8080/"
        },
        "id": "OnraLeBObJE0",
        "outputId": "4621e1e4-2f72-4c48-9698-2ce549b1e9b9"
      },
      "outputs": [
        {
          "output_type": "stream",
          "name": "stdout",
          "text": [
            "Matriks\n",
            "A =  [[ 1  2  3  5]\n",
            " [ 2  5  3  3]\n",
            " [ 1  0  8 17]]\n",
            "\n",
            "\n",
            "Matriks Eselon Baris\n",
            "[[ 1  2  3  5]\n",
            " [ 0  1 -3 -7]\n",
            " [ 0  0 -1 -2]]\n",
            "\n",
            "Solusi\n",
            "[[ 1.]\n",
            " [-1.]\n",
            " [ 2.]]\n"
          ]
        }
      ],
      "source": [
        "import numpy as np\n",
        "\n",
        "A = np.array([[1,2,3,5],\n",
        "             [2,5,3,3],\n",
        "             [1,0,8,17]])\n",
        "\n",
        "print(\"Matriks\")\n",
        "print(\"A = \", A)\n",
        "\n",
        "n = len(A)\n",
        "m = np.zeros((n,n))\n",
        "for i in range (0,n):\n",
        "  for j in range (i+1,n):\n",
        "    m[j][i] = A[j][i]\n",
        "    s = m[j][i]\n",
        "    for k in range (0, n+1):\n",
        "      A[j][k] = A[j][k] - s * A[i][k]\n",
        "print('\\n')\n",
        "print(\"Matriks Eselon Baris\")\n",
        "print(A)\n",
        "\n",
        "x = np.zeros((n, 1))\n",
        "x[n-1][0] = A[n-1][n] / A[n-1][n-1]\n",
        "for i in range (n-2, -1, -1):\n",
        "  s = 0\n",
        "  for j in range (i+1, n):\n",
        "    s = s +A[i][j] * x[j][0]\n",
        "    x[i][0] = (A[i][n] - s) / A[i][i]\n",
        "\n",
        "print(\"\\nSolusi\")\n",
        "print(x)"
      ]
    },
    {
      "cell_type": "markdown",
      "source": [
        "Eliminasi Gauss Jordan"
      ],
      "metadata": {
        "id": "Hv8K1diPeTn0"
      }
    },
    {
      "cell_type": "code",
      "source": [
        "import numpy as np\n",
        "\n",
        "A = np.array([[1,2,3,5],\n",
        "             [2,5,3,3],\n",
        "             [1,0,8,17]])\n",
        "print(A)\n",
        "n = len (A)\n",
        "x = np.zeros(n)\n",
        "\n",
        "for k in range (n):\n",
        "  pivot = A[k][k]\n",
        "  A[k] = A[k]/pivot\n",
        "  #print (A)\n",
        "  for i in range (n):\n",
        "    if i == k:continue\n",
        "    factor = A[i][k]\n",
        "    for j in range (k, n+1):\n",
        "      A[i][j] = A[i][j] - (A[k][j] * factor)\n",
        "    print ('\\n')\n",
        "    print(A)\n",
        "\n",
        "x= A[:,n]\n",
        "print ('\\nSolusi')\n",
        "print(x)"
      ],
      "metadata": {
        "colab": {
          "base_uri": "https://localhost:8080/"
        },
        "id": "0cK9qirpmG66",
        "outputId": "07706b0c-53c7-4b77-acf6-2f5777de432e"
      },
      "execution_count": null,
      "outputs": [
        {
          "output_type": "stream",
          "name": "stdout",
          "text": [
            "[[ 1  2  3  5]\n",
            " [ 2  5  3  3]\n",
            " [ 1  0  8 17]]\n",
            "\n",
            "\n",
            "[[ 1  2  3  5]\n",
            " [ 0  1 -3 -7]\n",
            " [ 1  0  8 17]]\n",
            "\n",
            "\n",
            "[[ 1  2  3  5]\n",
            " [ 0  1 -3 -7]\n",
            " [ 0 -2  5 12]]\n",
            "\n",
            "\n",
            "[[ 1  0  9 19]\n",
            " [ 0  1 -3 -7]\n",
            " [ 0 -2  5 12]]\n",
            "\n",
            "\n",
            "[[ 1  0  9 19]\n",
            " [ 0  1 -3 -7]\n",
            " [ 0  0 -1 -2]]\n",
            "\n",
            "\n",
            "[[ 1  0  0  1]\n",
            " [ 0  1 -3 -7]\n",
            " [ 0  0  1  2]]\n",
            "\n",
            "\n",
            "[[ 1  0  0  1]\n",
            " [ 0  1  0 -1]\n",
            " [ 0  0  1  2]]\n",
            "\n",
            "Solusi\n",
            "[ 1 -1  2]\n"
          ]
        }
      ]
    },
    {
      "cell_type": "markdown",
      "source": [
        "Dekomposisi LU"
      ],
      "metadata": {
        "id": "2-KGsAPDqd3S"
      }
    },
    {
      "cell_type": "code",
      "source": [
        "import numpy as np\n",
        "import scipy.linalg as lg\n",
        "\n",
        "A = np.array([[1,2,3,5],\n",
        "             [2,5,3,3],\n",
        "             [1,0,8,17]])\n",
        "print(\"A: \")\n",
        "print (A)\n",
        "\n",
        "P, L, U = lg.lu(A)\n",
        "print(\"L: \")\n",
        "print(L)\n",
        "print(\"U: \")\n",
        "print(U)"
      ],
      "metadata": {
        "colab": {
          "base_uri": "https://localhost:8080/"
        },
        "id": "a_s3r2PLqfup",
        "outputId": "1ba073f7-43dd-4775-e72a-666d7c14c03f"
      },
      "execution_count": null,
      "outputs": [
        {
          "output_type": "stream",
          "name": "stdout",
          "text": [
            "A: \n",
            "[[ 1  2  3  5]\n",
            " [ 2  5  3  3]\n",
            " [ 1  0  8 17]]\n",
            "L: \n",
            "[[1.  0.  0. ]\n",
            " [0.5 1.  0. ]\n",
            " [0.5 0.2 1. ]]\n",
            "U: \n",
            "[[ 2.   5.   3.   3. ]\n",
            " [ 0.  -2.5  6.5 15.5]\n",
            " [ 0.   0.   0.2  0.4]]\n"
          ]
        }
      ]
    }
  ]
}