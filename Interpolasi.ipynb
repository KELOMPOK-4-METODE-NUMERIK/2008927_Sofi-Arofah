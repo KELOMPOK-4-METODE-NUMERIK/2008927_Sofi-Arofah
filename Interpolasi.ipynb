{
  "nbformat": 4,
  "nbformat_minor": 0,
  "metadata": {
    "colab": {
      "provenance": []
    },
    "kernelspec": {
      "name": "python3",
      "display_name": "Python 3"
    },
    "language_info": {
      "name": "python"
    }
  },
  "cells": [
    {
      "cell_type": "markdown",
      "source": [
        "Polinom Lagrange"
      ],
      "metadata": {
        "id": "WsTv441luCTu"
      }
    },
    {
      "cell_type": "code",
      "source": [
        "import matplotlib.pyplot as plt\n",
        "import numpy as np\n",
        "\n",
        "\n",
        "x =[0, 20, 40, 60]\n",
        "y = [26.0, 48.6, 61.6, 71.2]\n",
        "\n",
        "m = len(x)\n",
        "n = m - 1 #derajat dari fungsi\n",
        "\n",
        "xplt = np.linspace(x[0], x[-1], num = 60)\n",
        "yplt = []\n",
        "\n",
        "for i in range(len(xplt)):\n",
        "  yp = 0\n",
        "  for j in range(n + 1):\n",
        "    p = 1\n",
        "    for k in range (n +1):\n",
        "      if k != j:\n",
        "        p = p * (xplt[i] - x[k]) / (x[j] - x[k])\n",
        "    yp = yp + y[j] * p\n",
        "  yplt.append(yp)\n",
        "\n",
        "print(xplt)\n",
        "print(yplt)\n",
        "\n",
        "plt.plot(x, y, 'bo')\n",
        "plt.plot(xplt, yplt, 'r-')\n"
      ],
      "metadata": {
        "colab": {
          "base_uri": "https://localhost:8080/",
          "height": 493
        },
        "id": "coRTtEvIuu27",
        "outputId": "7e0b3901-b551-4cc1-970b-f14a70d03f6e"
      },
      "execution_count": 13,
      "outputs": [
        {
          "output_type": "stream",
          "name": "stdout",
          "text": [
            "[ 0.          1.01694915  2.03389831  3.05084746  4.06779661  5.08474576\n",
            "  6.10169492  7.11864407  8.13559322  9.15254237 10.16949153 11.18644068\n",
            " 12.20338983 13.22033898 14.23728814 15.25423729 16.27118644 17.28813559\n",
            " 18.30508475 19.3220339  20.33898305 21.3559322  22.37288136 23.38983051\n",
            " 24.40677966 25.42372881 26.44067797 27.45762712 28.47457627 29.49152542\n",
            " 30.50847458 31.52542373 32.54237288 33.55932203 34.57627119 35.59322034\n",
            " 36.61016949 37.62711864 38.6440678  39.66101695 40.6779661  41.69491525\n",
            " 42.71186441 43.72881356 44.74576271 45.76271186 46.77966102 47.79661017\n",
            " 48.81355932 49.83050847 50.84745763 51.86440678 52.88135593 53.89830508\n",
            " 54.91525424 55.93220339 56.94915254 57.96610169 58.98305085 60.        ]\n",
            "[26.0, 27.478015765974124, 28.915996280048102, 30.314756620686627, 31.67511186635439, 32.9978770955161, 34.283867386636416, 35.53389781818005, 36.74878346861168, 37.929339416396026, 39.07638073999776, 40.190722517881575, 41.27317982851217, 42.32456775035423, 43.34570136187245, 44.33739574153151, 45.300465967796114, 46.23572711913098, 47.14399427400075, 48.026082510870154, 48.882806908203854, 49.714982544466594, 50.52342449812298, 51.308947847637775, 52.07236767147566, 52.814499048101304, 53.53615705597943, 54.23815677357471, 54.92131327935183, 55.58644165177551, 56.2343569693104, 56.865874310421205, 57.481808753572665, 58.08297537722941, 58.670189259856166, 59.24426547991763, 59.806019115878456, 60.35626524620336, 60.89581894935704, 61.42549530380418, 61.94610938800949, 62.45847628043763, 62.963411059553316, 63.46172880382123, 63.95424459170607, 64.44177350167251, 64.92513061218528, 65.40513100170904, 65.88258974870847, 66.35832193164833, 66.83314262899322, 67.30786691920791, 67.78330988075705, 68.26028659210533, 68.73961213171745, 69.22210157805813, 69.70857000959202, 70.19983250478386, 70.69670414209826, 71.2]\n"
          ]
        },
        {
          "output_type": "execute_result",
          "data": {
            "text/plain": [
              "[<matplotlib.lines.Line2D at 0x7fcc584a6fd0>]"
            ]
          },
          "metadata": {},
          "execution_count": 13
        },
        {
          "output_type": "display_data",
          "data": {
            "text/plain": [
              "<Figure size 432x288 with 1 Axes>"
            ],
            "image/png": "[encoded data removed]"
          },
          "metadata": {
            "needs_background": "light"
          }
        }
      ]
    },
    {
      "cell_type": "markdown",
      "source": [
        "Polinom Newton"
      ],
      "metadata": {
        "id": "tXBtB_KAzcKZ"
      }
    },
    {
      "cell_type": "code",
      "source": [
        "import numpy as np\n",
        "\n",
        "x = [8.0, 9.0, 9.5]\n",
        "y = [2.079, 2.197, 2.251]\n",
        "\n",
        "#jika di inputkan 9.2\n",
        "xinput = 9.2\n",
        "\n",
        "n = len(x) - 1\n",
        "\n",
        "#membuat array 2 dimensi \n",
        "# ST (selisih terbagi)\n",
        "ST = np.zeros((n+1, n+1))\n",
        "ST [:,0] = y\n",
        "\n",
        "#lakukan perulangan\n",
        "for k in range(1, n+1):\n",
        "  for i in range (0, n-k+1):\n",
        "    ST[i,k] = (ST[i+1, k-1] - ST[i, k-1])/(x[i+k] - x[i])\n",
        "\n",
        "print(ST)\n",
        "p = ST[0,0]\n",
        "for i in range (1, n+1):\n",
        "  a = ST[0,i]\n",
        "  for k in range (0,i):\n",
        "    a = a * (xinput - x[k])\n",
        "  p = p + a\n",
        "print(p)\n"
      ],
      "metadata": {
        "id": "LaEw9jjRzfRe",
        "colab": {
          "base_uri": "https://localhost:8080/"
        },
        "outputId": "5bac0a13-2613-4490-83e4-b795ad8ffe94"
      },
      "execution_count": 3,
      "outputs": [
        {
          "output_type": "stream",
          "name": "stdout",
          "text": [
            "[[ 2.079       0.118      -0.00666667]\n",
            " [ 2.197       0.108       0.        ]\n",
            " [ 2.251       0.          0.        ]]\n",
            "2.2190000000000003\n"
          ]
        }
      ]
    }
  ]
}